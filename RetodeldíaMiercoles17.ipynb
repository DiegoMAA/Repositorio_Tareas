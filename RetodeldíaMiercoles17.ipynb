{
  "nbformat": 4,
  "nbformat_minor": 0,
  "metadata": {
    "colab": {
      "name": "Untitled2.ipynb",
      "provenance": [],
      "authorship_tag": "ABX9TyPvBSakHxUEBT/7D9yuhesw",
      "include_colab_link": true
    },
    "kernelspec": {
      "name": "python3",
      "display_name": "Python 3"
    }
  },
  "cells": [
    {
      "cell_type": "markdown",
      "metadata": {
        "id": "view-in-github",
        "colab_type": "text"
      },
      "source": [
        "<a href=\"https://colab.research.google.com/github/DiegoMAA/Repositorio_Tareas/blob/main/Retodeld%C3%ADaMiercoles17.ipynb\" target=\"_parent\"><img src=\"https://colab.research.google.com/assets/colab-badge.svg\" alt=\"Open In Colab\"/></a>"
      ]
    },
    {
      "cell_type": "code",
      "metadata": {
        "id": "77HjQIydhrFo"
      },
      "source": [
        ""
      ],
      "execution_count": null,
      "outputs": []
    },
    {
      "cell_type": "markdown",
      "metadata": {
        "id": "wxFMsSW_hwFX"
      },
      "source": [
        "Reto impuesto"
      ]
    },
    {
      "cell_type": "code",
      "metadata": {
        "id": "dlwzrSK7h1C5"
      },
      "source": [
        "#Recopilación de datos\r\n",
        "\r\n",
        "vector1 = input(print(\"Ingrese el primer vector de la forma -x,y,z-\"))  #Pedimos al usuario los vectores\r\n",
        "vector2 = input(print(\"Ingrese el segundo vector de la forma -x,y,z-\"))\r\n",
        "vector3 = input(print(\"Ingrese el tercer vector de la forma -x,y,z-\"))\r\n",
        "\r\n",
        "#Creamos una conversión de vectores, en caso de querer hacer operaciones con ellos.\r\n",
        "\r\n",
        "vectorop1 = vector1.split(\",\")\r\n",
        "vectorop2 = vector2.split(\",\")\r\n",
        "vectorop3 = vector3.split(\",\")\r\n",
        "\r\n",
        "#Creamos un ciclo for para tener nuestras listas con enteros y poder hacer operaciones\r\n",
        "\r\n",
        "for i in range(3):\r\n",
        "    vectorop1[i] = int(vectorop1[i])\r\n",
        "    vectorop2[i] = int(vectorop2[i])\r\n",
        "    vectorop3[i] = int(vectorop3[i])\r\n",
        "\r\n",
        "#Creamos un a lista con lo solicitado\r\n",
        "\r\n",
        "Secuencia = [vector1+\"\\n\",vector2+\"\\n\",vector3+\"\\n\"]\r\n",
        "\r\n",
        "#Abrimos el archivo y escribimos en él la lista con los vectores\r\n",
        "\r\n",
        "with open(\"coordenadas.txt\",\"w\") as escritura:\r\n",
        "    escritura.writelines(Secuencia)\r\n",
        "escritura.close()\r\n",
        "\r\n",
        "#Cerramos y abrimos el archivo ahora para leer las coordenadas insertadas\r\n",
        "\r\n",
        "with open(\"coordenadas.txt\",\"r\") as lectura:\r\n",
        "    loctura = [lecto.strip() for lecto in lectura]\r\n",
        "for lecto in loctura:\r\n",
        "    print(lecto)\r\n",
        "accion = input(print(\"¿Desea hacer operaciones?\"))\r\n",
        "\r\n",
        "if (accion == \"si\" or accion == \"sí\" or accion == \"Sí\" or accion == \"Si\" or accion == \"SI\" or accion == \"SÍ\"):\r\n",
        "  print(\"Por el momento el sistema esta en mantenimiento :( \")\r\n",
        "else:\r\n",
        "  print(\"Ta bueno, de todas maneras aún no hago nada equisde\")"
      ],
      "execution_count": null,
      "outputs": []
    }
  ]
}